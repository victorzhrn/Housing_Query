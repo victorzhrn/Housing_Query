{
 "cells": [
  {
   "cell_type": "code",
   "execution_count": 37,
   "metadata": {},
   "outputs": [],
   "source": [
    "import urllib.request\n",
    "import urllib\n",
    "from bs4 import BeautifulSoup,Comment\n",
    "import requests\n",
    "import pandas as pd\n",
    "import time"
   ]
  },
  {
   "cell_type": "code",
   "execution_count": 60,
   "metadata": {},
   "outputs": [],
   "source": [
    "def search_housing(housing=\"茂名坊\",city='上海'):\n",
    "    post_params = {\n",
    "        \"forward\": \"朝向\",\n",
    "        \"buildareatxt\":\"面积\",\n",
    "        \"floortxt\": \"所在楼层\",\n",
    "        \"totalfloortxt\": \"总楼层\",\n",
    "        \"category\":\"\" ,\n",
    "        \"strnewcodefast\": \"\",\n",
    "        \"strcityfast\": city,\n",
    "        \"projname\": housing,\n",
    "        \"housetypes\": \"\",\n",
    "        \"ablepg\":\"\" ,\n",
    "        \"boolnewsearch\": True,\n",
    "        \"pingguprice\":\"\" ,\n",
    "        \"totalprice\": \"\",\n",
    "        \"totalprice1\": \"\",\n",
    "        \"newcode\":\"\" ,\n",
    "        \"pgid\":\"\" ,\n",
    "        \"_csrf\": \"abQHLcTE-4E5slrAPsN4Kj-Txu-z5EBXbrCM\",\n",
    "                  }\n",
    "    post_args = urllib.parse.urlencode(post_params).encode('UTF-8')\n",
    "    url = \"https://fangjia.fang.com/fangjia/suggestion/transfer/sh?\"+post_args.decode('utf-8')\n",
    "    res = urllib.request.urlopen(url)\n",
    "    soup = BeautifulSoup(res.read().decode('utf-8',errors='ignore'))\n",
    "\n",
    "    detail_url = \"https:\"+soup.find('a',attrs={'class':\"assess_most\"}).attrs['href'][:-1]\n",
    "\n",
    "    req = urllib.request.Request(detail_url,headers={\"User-agent\": \"Mozilla/5.0 (Macintosh; Intel Mac OS X 10_14_5) AppleWebKit/537.36 (KHTML, like Gecko) Chrome/75.0.3770.90 Safari/537.36\",\n",
    "                                                     \"upgrade-insecure-requests\":\"1\",\n",
    "                                                     \"accept-encoding\": \"gzip, deflate, br\",\n",
    "                                                        \"accept-language\": \"zh-CN,zh;q=0.9\"\n",
    "                                                    })\n",
    "\n",
    "\n",
    "\n",
    "    res_detail= requests.request('post',detail_url,headers={\"User-agent\": \"Mozilla/5.0 (Macintosh; Intel Mac OS X 10_14_5) AppleWebKit/537.36 (KHTML, like Gecko) Chrome/75.0.3770.90 Safari/537.36\",\n",
    "                                                     \"upgrade-insecure-requests\":\"1\",\n",
    "                                                     \"accept-encoding\": \"gzip, deflate, br\",\n",
    "                                                        \"accept-language\": \"zh-CN,zh;q=0.9\"\n",
    "                                                    })\n",
    "\n",
    "\n",
    "\n",
    "    soup = BeautifulSoup(res_detail.content.decode('GBK'),'html.parser')\n",
    "    \n",
    "#     return soup\n",
    "\n",
    "    ## 过滤html中的comments\n",
    "    comments = soup.findAll(text=lambda text: isinstance(text, Comment))\n",
    "    # nit: It isn't good practice to use a list comprehension only for its\n",
    "    # side-effects. (Wastes space constructing an unused list)\n",
    "    for comment in comments:\n",
    "        comment.extract()\n",
    "\n",
    "    info_items = soup.find(\"div\",attrs={'class':\"Rinfolist\"}).find_all('li')\n",
    "\n",
    "    strs = {item.contents[0].get_text():item.contents[1] for item in info_items if isinstance(item.contents[1],str) and item.contents[1]!='\\n'}\n",
    "    tags = {item.contents[0].get_text():item.get_text().replace(item.contents[0].get_text(),\"\").strip(\"\\n\").replace(\"\\n\",';') for item in info_items if not isinstance(item.contents[1],str) or item.contents[1]=='\\n'}\n",
    "    infos = {**strs,**tags}\n",
    "\n",
    "    infos['均价(元)'] = soup.find('span',attrs={'class':\"prib\"}).get_text()\n",
    "\n",
    "    return infos,detail_url"
   ]
  },
  {
   "cell_type": "code",
   "execution_count": null,
   "metadata": {},
   "outputs": [],
   "source": [
    "# search_housing(\"茂名坊\")"
   ]
  },
  {
   "cell_type": "code",
   "execution_count": 9,
   "metadata": {},
   "outputs": [],
   "source": [
    "# search_housing(\"凯德嘉博名邸\")"
   ]
  },
  {
   "cell_type": "code",
   "execution_count": 1,
   "metadata": {},
   "outputs": [],
   "source": [
    "from selenium import webdriver\n",
    "from selenium.webdriver.common.desired_capabilities import DesiredCapabilities"
   ]
  },
  {
   "cell_type": "code",
   "execution_count": 26,
   "metadata": {},
   "outputs": [],
   "source": [
    "driver = webdriver.Remote(\n",
    "   command_executor='http://selenium:4444/wd/hub',\n",
    "   desired_capabilities=DesiredCapabilities.CHROME)"
   ]
  },
  {
   "cell_type": "code",
   "execution_count": 27,
   "metadata": {},
   "outputs": [],
   "source": [
    "driver.get('https://maomingfang.fang.com')"
   ]
  },
  {
   "cell_type": "code",
   "execution_count": 57,
   "metadata": {},
   "outputs": [],
   "source": [
    "def get_surrounding(url):\n",
    "    driver.get(url)\n",
    "    iframe_tag = driver.find_element_by_id(\"iframe_map\")\n",
    "    driver.switch_to.frame(iframe_tag)\n",
    "    soup_map = BeautifulSoup(driver.page_source)\n",
    "    tags = soup_map.find_all('div',attrs={'class':'title1'})\n",
    "    info = [{\"住宅\":t.find('span').get_text(),\n",
    "             \"距离\":t.find('b').get_text()} for t in tags]\n",
    "    return info"
   ]
  },
  {
   "cell_type": "code",
   "execution_count": 61,
   "metadata": {},
   "outputs": [],
   "source": [
    "def query_housing(housing,city='上海'):\n",
    "    subj_info,subj_url = search_housing(housing,city)\n",
    "    subj_info['住宅'] = housing\n",
    "    subj_info['距离'] = \"0米\"\n",
    "    l = [subj_info]\n",
    "    surroundings = get_surrounding(subj_url)\n",
    "    for sur_basic in surroundings:\n",
    "        print(sur_basic)\n",
    "        try:\n",
    "            sur_info,sur_url = search_housing(sur_basic['住宅'])\n",
    "            sur_info = {**sur_info,**sur_basic}\n",
    "            l.append(sur_info)\n",
    "        except Exception as e:\n",
    "            print(e)\n",
    "        time.sleep(1)\n",
    "    df = pd.DataFrame.from_dict(l)\n",
    "    df = df.applymap(str)\n",
    "    return df\n"
   ]
  },
  {
   "cell_type": "code",
   "execution_count": 62,
   "metadata": {},
   "outputs": [
    {
     "name": "stdout",
     "output_type": "stream",
     "text": [
      "{'住宅': '翠湖天地御苑', '距离': '399米'}\n",
      "{'住宅': '翠湖天地隽荟', '距离': '293米'}\n",
      "HTTP Error 403: Forbidden\n",
      "{'住宅': '翠湖天地嘉苑', '距离': '205米'}\n",
      "{'住宅': '复兴珑御', '距离': '1055米'}\n",
      "HTTP Error 403: Forbidden\n",
      "{'住宅': '翠湖天地雅苑', '距离': '316米'}\n",
      "{'住宅': '汇龙新城', '距离': '1191米'}\n",
      "'gbk' codec can't decode byte 0xab in position 85221: illegal multibyte sequence\n",
      "{'住宅': '露香园', '距离': '1252米'}\n",
      "HTTP Error 403: Forbidden\n",
      "{'住宅': '中凯城市之光', '距离': '1218米'}\n",
      "{'住宅': '黄浦新苑', '距离': '1362米'}\n",
      "{'住宅': '老西门新苑', '距离': '951米'}\n",
      "{'住宅': '嘉御庭', '距离': '1867米'}\n",
      "HTTP Error 403: Forbidden\n",
      "{'住宅': '凯德茂名公馆', '距离': '1291米'}\n",
      "{'住宅': '永业公寓', '距离': '1216米'}\n",
      "{'住宅': '巴卡拉', '距离': '412米'}\n",
      "{'住宅': '淡水湾花园', '距离': '960米'}\n",
      "{'住宅': '思南公馆东苑', '距离': '735米'}\n",
      "{'住宅': '上海天玺', '距离': '1622米'}\n",
      "{'住宅': '士林华苑', '距离': '1712米'}\n"
     ]
    }
   ],
   "source": [
    "df = query_housing(\"华府天地\")"
   ]
  },
  {
   "cell_type": "code",
   "execution_count": 52,
   "metadata": {},
   "outputs": [],
   "source": [
    "df.to_excel(\"华府天地及周边小区.xlsx\",index=False,encoding='utf-8')"
   ]
  },
  {
   "cell_type": "code",
   "execution_count": null,
   "metadata": {},
   "outputs": [],
   "source": []
  }
 ],
 "metadata": {
  "kernelspec": {
   "display_name": "Python 3",
   "language": "python",
   "name": "python3"
  },
  "language_info": {
   "codemirror_mode": {
    "name": "ipython",
    "version": 3
   },
   "file_extension": ".py",
   "mimetype": "text/x-python",
   "name": "python",
   "nbconvert_exporter": "python",
   "pygments_lexer": "ipython3",
   "version": "3.7.3"
  }
 },
 "nbformat": 4,
 "nbformat_minor": 2
}
